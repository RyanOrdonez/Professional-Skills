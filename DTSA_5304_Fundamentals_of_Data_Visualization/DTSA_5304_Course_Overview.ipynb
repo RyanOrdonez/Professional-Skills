{
 "cells": [
  {
   "cell_type": "markdown",
   "metadata": {},
   "source": [
    "# DTSA 5304: Fundamentals of Data Visualization\n",
    "\n",
    "## Course Overview and Quick Reference Guide\n",
    "\n",
    "This notebook serves as a comprehensive overview and quick reference guide for the key concepts, techniques, and implementations covered in this course.\n",
    "\n",
    "### Course Objectives\n",
    "- Understanding data visualization principles\n",
    "- Implementing effective visualization techniques\n",
    "- Analyzing and improving visual communication\n",
    "- Creating impactful data stories"
   ]
  },
  {
   "cell_type": "code",
   "execution_count": null,
   "metadata": {},
   "source": [
    "# Import common libraries\n",
    "import numpy as np\n",
    "import pandas as pd\n",
    "import matplotlib.pyplot as plt\n",
    "import seaborn as sns\n",
    "import plotly.express as px\n",
    "import plotly.graph_objects as go\n",
    "import altair as alt\n",
    "from bokeh.plotting import figure, show\n",
    "from bokeh.io import output_notebook\n",
    "\n",
    "# Display settings\n",
    "%matplotlib inline\n",
    "plt.style.use('seaborn')\n",
    "pd.set_option('display.max_columns', None)\n",
    "output_notebook()"
   ]
  },
  {
   "cell_type": "markdown",
   "metadata": {},
   "source": [
    "## Week 1: Introduction to Data Visualization\n",
    "\n",
    "### Key Concepts\n",
    "- \n",
    "\n",
    "### Important Principles\n",
    "- \n",
    "\n",
    "### Code Examples"
   ]
  },
  {
   "cell_type": "code",
   "execution_count": null,
   "metadata": {},
   "source": [
    "def create_basic_visualizations(data):\n",
    "    \"\"\"Create basic visualizations using different libraries\"\"\"\n",
    "    # Matplotlib example\n",
    "    plt.figure(figsize=(15, 5))\n",
    "    \n",
    "    # Basic line plot\n",
    "    plt.subplot(131)\n",
    "    plt.plot(data['x'], data['y'])\n",
    "    plt.title('Matplotlib Line Plot')\n",
    "    \n",
    "    # Seaborn example\n",
    "    plt.subplot(132)\n",
    "    sns.scatterplot(data=data, x='x', y='y', hue='category')\n",
    "    plt.title('Seaborn Scatter Plot')\n",
    "    \n",
    "    # Histogram\n",
    "    plt.subplot(133)\n",
    "    plt.hist(data['values'], bins=20)\n",
    "    plt.title('Histogram')\n",
    "    \n",
    "    plt.tight_layout()\n",
    "    plt.show()\n",
    "    \n",
    "    # Plotly example\n",
    "    fig = px.scatter(data, x='x', y='y', color='category',\n",
    "                    title='Interactive Plotly Scatter Plot')\n",
    "    fig.show()"
   ]
  },
  {
   "cell_type": "markdown",
   "metadata": {},
   "source": [
    "## Week 2: Advanced Visualization Techniques\n",
    "\n",
    "### Key Concepts\n",
    "- \n",
    "\n",
    "### Important Methods\n",
    "- \n",
    "\n",
    "### Code Examples"
   ]
  },
  {
   "cell_type": "code",
   "execution_count": null,
   "metadata": {},
   "source": [
    "def create_advanced_visualizations(data):\n",
    "    \"\"\"Create advanced visualizations\"\"\"\n",
    "    # Heatmap\n",
    "    plt.figure(figsize=(10, 8))\n",
    "    correlation = data.corr()\n",
    "    sns.heatmap(correlation, annot=True, cmap='coolwarm', center=0)\n",
    "    plt.title('Correlation Heatmap')\n",
    "    plt.show()\n",
    "    \n",
    "    # Box plots with violin plots\n",
    "    plt.figure(figsize=(12, 6))\n",
    "    sns.violinplot(data=data, x='category', y='values')\n",
    "    plt.title('Violin Plot with Box Plot')\n",
    "    plt.show()\n",
    "    \n",
    "    # Interactive 3D scatter plot\n",
    "    fig = px.scatter_3d(data, x='x', y='y', z='z',\n",
    "                        color='category', size='values',\n",
    "                        title='3D Scatter Plot')\n",
    "    fig.show()"
   ]
  },
  {
   "cell_type": "markdown",
   "metadata": {},
   "source": [
    "## Week 3: Interactive Visualizations\n",
    "\n",
    "### Key Concepts\n",
    "- \n",
    "\n",
    "### Important Libraries\n",
    "- \n",
    "\n",
    "### Code Examples"
   ]
  },
  {
   "cell_type": "code",
   "execution_count": null,
   "metadata": {},
   "source": [
    "def create_interactive_dashboard(data):\n",
    "    \"\"\"Create an interactive dashboard using Plotly\"\"\"\n",
    "    # Create figures\n",
    "    scatter = px.scatter(data, x='x', y='y', color='category',\n",
    "                        title='Interactive Scatter Plot')\n",
    "    \n",
    "    histogram = px.histogram(data, x='values',\n",
    "                            title='Interactive Histogram')\n",
    "    \n",
    "    box = px.box(data, x='category', y='values',\n",
    "                 title='Interactive Box Plot')\n",
    "    \n",
    "    # Create dashboard layout\n",
    "    fig = go.Figure()\n",
    "    fig.add_trace(scatter.data[0])\n",
    "    fig.add_trace(histogram.data[0])\n",
    "    fig.add_trace(box.data[0])\n",
    "    \n",
    "    fig.update_layout(\n",
    "        title='Interactive Dashboard',\n",
    "        height=800\n",
    "    )\n",
    "    \n",
    "    fig.show()"
   ]
  },
  {
   "cell_type": "markdown",
   "metadata": {},
   "source": [
    "## Week 4: Data Storytelling\n",
    "\n",
    "### Key Concepts\n",
    "- \n",
    "\n",
    "### Important Techniques\n",
    "- \n",
    "\n",
    "### Code Examples"
   ]
  },
  {
   "cell_type": "code",
   "execution_count": null,
   "metadata": {},
   "source": [
    "def create_story_visualization(data):\n",
    "    \"\"\"Create a sequence of visualizations for storytelling\"\"\"\n",
    "    # Time series trend\n",
    "    fig1 = px.line(data, x='date', y='value',\n",
    "                   title='Trend Over Time')\n",
    "    fig1.show()\n",
    "    \n",
    "    # Breakdown by category\n",
    "    fig2 = px.pie(data, values='value', names='category',\n",
    "                  title='Distribution by Category')\n",
    "    fig2.show()\n",
    "    \n",
    "    # Geographic visualization\n",
    "    fig3 = px.choropleth(data, locations='country',\n",
    "                         color='value',\n",
    "                         title='Geographic Distribution')\n",
    "    fig3.show()\n",
    "    \n",
    "    # Final summary\n",
    "    fig4 = px.bar(data, x='category', y='value',\n",
    "                  color='region',\n",
    "                  title='Summary by Category and Region')\n",
    "    fig4.show()"
   ]
  }
 ],
 "metadata": {
  "kernelspec": {
   "display_name": "Python 3",
   "language": "python",
   "name": "python3"
  },
  "language_info": {
   "codemirror_mode": {
    "name": "ipython",
    "version": 3
   },
   "file_extension": ".py",
   "mimetype": "text/x-python",
   "name": "python",
   "nbconvert_exporter": "python",
   "pygments_lexer": "ipython3",
   "version": "3.8.0"
  }
 },
 "nbformat": 4,
 "nbformat_minor": 4
}
